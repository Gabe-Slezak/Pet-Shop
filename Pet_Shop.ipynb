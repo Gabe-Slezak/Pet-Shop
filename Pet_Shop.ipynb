{
  "nbformat": 4,
  "nbformat_minor": 0,
  "metadata": {
    "kernelspec": {
      "display_name": "Python 3",
      "language": "python",
      "name": "python3"
    },
    "language_info": {
      "codemirror_mode": {
        "name": "ipython",
        "version": 3
      },
      "file_extension": ".py",
      "mimetype": "text/x-python",
      "name": "python",
      "nbconvert_exporter": "python",
      "pygments_lexer": "ipython3",
      "version": "3.7.3"
    },
    "colab": {
      "name": "Pet Shop.ipynb",
      "provenance": []
    }
  },
  "cells": [
    {
      "cell_type": "markdown",
      "metadata": {
        "id": "p2X_6HVyWmd1",
        "colab_type": "text"
      },
      "source": [
        "Our pet shop ER diagram all starts with one core component, the expense report, it deals with a key entity that every business needs to deal with: costs. The expense report is connected with the rest of the business elements which are further elaborated down below,the expense report consists of four attributes: Exhibits, Animal foods, maintenance and Purchasing methods. Animal foods deal with the main source of revenue for the pet shop, it records the purchase history of pet foods from our customers, there is also a loyalty discount program. Enclosure Maintenance deal with the cost of cleaning the animal living areas, maintaining animal infrastructures and upkeeps of the equipments, lastly, the purchasing methods, this entity records various ways a customer can decide to make a purchase from our shop including adopt, house or straight up purchasing, these have different prices and returning customers will also receive a loyalty discount. Exhibits deal with animal types and their needs. All four are connected to other entities represented by various relationship arrows.\n",
        "\n",
        "Pet/Fish food is a component of our pet shop ER diagram. It is one of our main sources of revenue.We can funnel the funds generated from it to expand and maintain the pet shop. The food consists of three categories: Food, water, treats. The food component is connected to the food costs sub-element in the expense report.\n",
        "\n",
        "Purchasing methods are a part of our pet shop ER diagram that is linked to Animal purchases as a fund. It is a source of revenue in four ways, buy, adopt, house, and a loyalty discount. Loyalty discount is way for use to reward our frequent customers and give other customers an incentive to keep coming back.\n",
        "\n",
        "Aquarium types are another component of our pet shop ER diagram. It is not a direct source of revenue but is necessary to hold the animals. It is a cost to the pet shop that is categorized under exhibits. This is paid for from our other sources of revenue. The type of aquarium can be categorized for ways, by how many, the fish type it holds, the food/water it contains, and the water per gallon. These are all expenses to the pet shop.\n",
        "\n",
        "Maintenance to the enclosures and aquariums are also a cost connected to the category of enclosure maintenance. This includes three components: treatment, laborers, and supplies.\n",
        "\n",
        "Our last primary key is enclosure types which is a subcategory of exhibits. This is also a cost to our pet shop. This includes components such as how many, animal types, food/water, and area per square foot.\n"
      ]
    },
    {
      "cell_type": "markdown",
      "metadata": {
        "id": "rAnsBekRWqPb",
        "colab_type": "text"
      },
      "source": [
        "![alt text](https://drive.google.com/uc?id=1fBHzRsvjp5lXoVWkTUFGSRsLSfnLZfrc)"
      ]
    }
  ]
}